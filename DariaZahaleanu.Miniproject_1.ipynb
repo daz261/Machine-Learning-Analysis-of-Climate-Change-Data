{
 "cells": [
  {
   "cell_type": "markdown",
   "metadata": {},
   "source": [
    "## Global Temperature Data: https://climate.nasa.gov/vital-signs/global-temperature/"
   ]
  },
  {
   "cell_type": "code",
   "execution_count": 246,
   "metadata": {},
   "outputs": [],
   "source": [
    "import pandas as pd\n",
    "import numpy as np\n",
    "\n",
    "#Visualization Libraries\n",
    "import seaborn as sns\n",
    "import matplotlib.pyplot as plt\n",
    "import math\n",
    "#To plot the graph embedded in the notebook\n",
    "%matplotlib inline"
   ]
  },
  {
   "cell_type": "code",
   "execution_count": 247,
   "metadata": {},
   "outputs": [],
   "source": [
    "from sklearn.linear_model import LinearRegression\n",
    "from sklearn.linear_model import Lasso\n",
    "from sklearn.linear_model import Ridge\n",
    "from sklearn.model_selection import train_test_split, cross_val_score\n",
    "from sklearn.metrics import mean_squared_error\n",
    "from sklearn.linear_model import SGDRegressor\n",
    "from sklearn import preprocessing"
   ]
  },
  {
   "cell_type": "code",
   "execution_count": 187,
   "metadata": {},
   "outputs": [],
   "source": [
    "#uploading climate data\n",
    "df=pd.read_csv('graph.csv')"
   ]
  },
  {
   "cell_type": "code",
   "execution_count": 244,
   "metadata": {},
   "outputs": [
    {
     "name": "stdout",
     "output_type": "stream",
     "text": [
      "(139, 3)\n"
     ]
    }
   ],
   "source": [
    "print (df.shape)\n",
    "print (df.keys)"
   ]
  },
  {
   "cell_type": "code",
   "execution_count": 189,
   "metadata": {},
   "outputs": [
    {
     "data": {
      "text/html": [
       "<div>\n",
       "<style scoped>\n",
       "    .dataframe tbody tr th:only-of-type {\n",
       "        vertical-align: middle;\n",
       "    }\n",
       "\n",
       "    .dataframe tbody tr th {\n",
       "        vertical-align: top;\n",
       "    }\n",
       "\n",
       "    .dataframe thead th {\n",
       "        text-align: right;\n",
       "    }\n",
       "</style>\n",
       "<table border=\"1\" class=\"dataframe\">\n",
       "  <thead>\n",
       "    <tr style=\"text-align: right;\">\n",
       "      <th></th>\n",
       "      <th>Year</th>\n",
       "      <th>No_Smoothing</th>\n",
       "      <th>Lowess</th>\n",
       "    </tr>\n",
       "  </thead>\n",
       "  <tbody>\n",
       "    <tr>\n",
       "      <th>0</th>\n",
       "      <td>1880</td>\n",
       "      <td>-0.16</td>\n",
       "      <td>-0.09</td>\n",
       "    </tr>\n",
       "    <tr>\n",
       "      <th>1</th>\n",
       "      <td>1881</td>\n",
       "      <td>-0.08</td>\n",
       "      <td>-0.12</td>\n",
       "    </tr>\n",
       "    <tr>\n",
       "      <th>2</th>\n",
       "      <td>1882</td>\n",
       "      <td>-0.10</td>\n",
       "      <td>-0.16</td>\n",
       "    </tr>\n",
       "    <tr>\n",
       "      <th>3</th>\n",
       "      <td>1883</td>\n",
       "      <td>-0.17</td>\n",
       "      <td>-0.20</td>\n",
       "    </tr>\n",
       "    <tr>\n",
       "      <th>4</th>\n",
       "      <td>1884</td>\n",
       "      <td>-0.28</td>\n",
       "      <td>-0.23</td>\n",
       "    </tr>\n",
       "  </tbody>\n",
       "</table>\n",
       "</div>"
      ],
      "text/plain": [
       "   Year    No_Smoothing  Lowess\n",
       "0    1880         -0.16   -0.09\n",
       "1    1881         -0.08   -0.12\n",
       "2    1882         -0.10   -0.16\n",
       "3    1883         -0.17   -0.20\n",
       "4    1884         -0.28   -0.23"
      ]
     },
     "execution_count": 189,
     "metadata": {},
     "output_type": "execute_result"
    }
   ],
   "source": [
    "df.head()"
   ]
  },
  {
   "cell_type": "markdown",
   "metadata": {},
   "source": [
    "## Basic Statistical Analysis\n",
    "From the basic statistical analysis of the data, I could notice that:\n",
    "- Lowess data is the optimized data for No_Smoothing\n",
    "- Both lowess and no_smoothing are values between 0 and 1\n",
    "- The STD of No_smoothing is quite small compared to the value of std for Year, which is 40.25\n",
    "- The large STD value for Year indicates that the data may need to be standardized"
   ]
  },
  {
   "cell_type": "code",
   "execution_count": 190,
   "metadata": {},
   "outputs": [
    {
     "data": {
      "text/html": [
       "<div>\n",
       "<style scoped>\n",
       "    .dataframe tbody tr th:only-of-type {\n",
       "        vertical-align: middle;\n",
       "    }\n",
       "\n",
       "    .dataframe tbody tr th {\n",
       "        vertical-align: top;\n",
       "    }\n",
       "\n",
       "    .dataframe thead th {\n",
       "        text-align: right;\n",
       "    }\n",
       "</style>\n",
       "<table border=\"1\" class=\"dataframe\">\n",
       "  <thead>\n",
       "    <tr style=\"text-align: right;\">\n",
       "      <th></th>\n",
       "      <th>Year</th>\n",
       "      <th>No_Smoothing</th>\n",
       "      <th>Lowess</th>\n",
       "    </tr>\n",
       "  </thead>\n",
       "  <tbody>\n",
       "    <tr>\n",
       "      <th>count</th>\n",
       "      <td>139.000000</td>\n",
       "      <td>139.000000</td>\n",
       "      <td>139.000000</td>\n",
       "    </tr>\n",
       "    <tr>\n",
       "      <th>mean</th>\n",
       "      <td>1949.000000</td>\n",
       "      <td>0.034892</td>\n",
       "      <td>0.035396</td>\n",
       "    </tr>\n",
       "    <tr>\n",
       "      <th>std</th>\n",
       "      <td>40.269923</td>\n",
       "      <td>0.343491</td>\n",
       "      <td>0.332806</td>\n",
       "    </tr>\n",
       "    <tr>\n",
       "      <th>min</th>\n",
       "      <td>1880.000000</td>\n",
       "      <td>-0.490000</td>\n",
       "      <td>-0.420000</td>\n",
       "    </tr>\n",
       "    <tr>\n",
       "      <th>25%</th>\n",
       "      <td>1914.500000</td>\n",
       "      <td>-0.210000</td>\n",
       "      <td>-0.230000</td>\n",
       "    </tr>\n",
       "    <tr>\n",
       "      <th>50%</th>\n",
       "      <td>1949.000000</td>\n",
       "      <td>-0.070000</td>\n",
       "      <td>-0.050000</td>\n",
       "    </tr>\n",
       "    <tr>\n",
       "      <th>75%</th>\n",
       "      <td>1983.500000</td>\n",
       "      <td>0.210000</td>\n",
       "      <td>0.215000</td>\n",
       "    </tr>\n",
       "    <tr>\n",
       "      <th>max</th>\n",
       "      <td>2018.000000</td>\n",
       "      <td>1.020000</td>\n",
       "      <td>0.960000</td>\n",
       "    </tr>\n",
       "  </tbody>\n",
       "</table>\n",
       "</div>"
      ],
      "text/plain": [
       "            Year    No_Smoothing      Lowess\n",
       "count   139.000000    139.000000  139.000000\n",
       "mean   1949.000000      0.034892    0.035396\n",
       "std      40.269923      0.343491    0.332806\n",
       "min    1880.000000     -0.490000   -0.420000\n",
       "25%    1914.500000     -0.210000   -0.230000\n",
       "50%    1949.000000     -0.070000   -0.050000\n",
       "75%    1983.500000      0.210000    0.215000\n",
       "max    2018.000000      1.020000    0.960000"
      ]
     },
     "execution_count": 190,
     "metadata": {},
     "output_type": "execute_result"
    }
   ],
   "source": [
    "#basic statistical analysis (mean, variance, …)\n",
    "df.describe()"
   ]
  },
  {
   "cell_type": "code",
   "execution_count": 191,
   "metadata": {},
   "outputs": [],
   "source": [
    "#read data into columns\n",
    "year = pd.read_csv('graph.csv', usecols=[0])\n",
    "#print (year)\n",
    "#smoothing = df[\"No_Smoothing\"]\n",
    "smoothing = pd.read_csv('graph.csv', usecols=[1])\n",
    "#print(smoothing)\n",
    "#lowess = df[\"Lowess\"]\n",
    "lowess = pd.read_csv('graph.csv', usecols=[2])"
   ]
  },
  {
   "cell_type": "code",
   "execution_count": 192,
   "metadata": {},
   "outputs": [
    {
     "name": "stdout",
     "output_type": "stream",
     "text": [
      "(139, 1)\n",
      "(139, 1)\n",
      "(139, 1)\n"
     ]
    }
   ],
   "source": [
    "print(year.shape)\n",
    "print(smoothing.shape)\n",
    "print(lowess.shape)"
   ]
  },
  {
   "cell_type": "markdown",
   "metadata": {},
   "source": [
    "## Y data choice\n",
    "No_Smoothing is the raw data, while Lowess is the optimized/standardized data\n",
    "I chose to stick to the No_smoothing data, because it is not optimized, so in the implementation below, I disregarded the Lowess values."
   ]
  },
  {
   "cell_type": "code",
   "execution_count": 217,
   "metadata": {},
   "outputs": [
    {
     "name": "stdout",
     "output_type": "stream",
     "text": [
      "(139, 1)\n",
      "(139, 1)\n"
     ]
    }
   ],
   "source": [
    "# created np arrays\n",
    "x = np.array(year).reshape(-1,1)\n",
    "y_1 = np.array(smoothing).reshape(-1,1)\n",
    "\n",
    "print(x.shape)\n",
    "print (y_1.shape)"
   ]
  },
  {
   "cell_type": "code",
   "execution_count": 218,
   "metadata": {},
   "outputs": [],
   "source": [
    "#splitting data\n",
    "X_train_1, X_test_1, Y_train_1, Y_test_1 = train_test_split( x, y_1, test_size=0.2, random_state=40)"
   ]
  },
  {
   "cell_type": "code",
   "execution_count": 219,
   "metadata": {},
   "outputs": [
    {
     "name": "stdout",
     "output_type": "stream",
     "text": [
      "(111, 1)\n",
      "(28, 1)\n",
      "(111, 1)\n",
      "(28, 1)\n"
     ]
    }
   ],
   "source": [
    "print(X_train_1.shape)\n",
    "print(X_test_1.shape)\n",
    "print(Y_train_1.shape)\n",
    "print(Y_test_1.shape)"
   ]
  },
  {
   "cell_type": "markdown",
   "metadata": {},
   "source": [
    "## Linear Regression"
   ]
  },
  {
   "cell_type": "code",
   "execution_count": 220,
   "metadata": {},
   "outputs": [
    {
     "data": {
      "text/plain": [
       "LinearRegression(copy_X=True, fit_intercept=True, n_jobs=None, normalize=False)"
      ]
     },
     "execution_count": 220,
     "metadata": {},
     "output_type": "execute_result"
    }
   ],
   "source": [
    "#linear regressor\n",
    "lm_1=LinearRegression()\n",
    "lm_1.fit(X_train_1, Y_train_1)"
   ]
  },
  {
   "cell_type": "code",
   "execution_count": 221,
   "metadata": {},
   "outputs": [
    {
     "data": {
      "image/png": "[encoded data removed]",
      "text/plain": [
       "<Figure size 432x288 with 1 Axes>"
      ]
     },
     "metadata": {
      "needs_background": "light"
     },
     "output_type": "display_data"
    }
   ],
   "source": [
    "#errors\n",
    "from sklearn.metrics import r2_score\n",
    "\n",
    "prediction_test_1 = lm_1.predict(X_test_1)\n",
    "rmse_1 =np.sqrt(mean_squared_error(Y_test_1, prediction_test_1))\n",
    "r2_1 = r2_score(Y_test_1, prediction_test_1)\n",
    "\n",
    "fig, plot_1 = plt.subplots()\n",
    "plot_1.scatter(year, smoothing)\n",
    "plot_1.plot(X_test_1, prediction_test_1, 'r-')\n",
    "\n",
    "plt.xlabel('Year')\n",
    "plt.ylabel('Smoothing')\n",
    "plt.title('Linear Regression')\n",
    "plt.show()"
   ]
  },
  {
   "cell_type": "code",
   "execution_count": 222,
   "metadata": {},
   "outputs": [
    {
     "name": "stdout",
     "output_type": "stream",
     "text": [
      "Root Mean Squared Error: 0.184745660492695\n",
      "R^2: 0.540654412638955\n",
      "\n",
      "\n"
     ]
    }
   ],
   "source": [
    "print(\"Root Mean Squared Error: {}\".format(rmse_1))\n",
    "print(\"R^2: {}\".format(r2_1))\n",
    "print(\"\\n\")"
   ]
  },
  {
   "cell_type": "markdown",
   "metadata": {},
   "source": [
    "## Stochastic Gradient Descent Regression using SGDRegressor\n",
    "For the purpose of this implementation, the year and smoothing values have been standardized using scikit.preprocessing, fitted to the training values and then the prediction was evaluated on the test dataset."
   ]
  },
  {
   "cell_type": "code",
   "execution_count": 223,
   "metadata": {},
   "outputs": [
    {
     "name": "stdout",
     "output_type": "stream",
     "text": [
      "(111, 1)\n",
      "[ 1.76801269  0.07336065 -0.77396537  0.54085087 -0.92005607 -0.48178398\n",
      "  0.36554204  1.68035828  0.48241459  0.10257879 -1.4752007  -0.42334771\n",
      "  1.0959955  -0.42334771 -0.92005607  1.76801269 -1.12458304 -0.13116632\n",
      " -0.74474723 -1.53363698  0.65772342 -0.33569329 -0.30647515 -0.74474723\n",
      " -0.42334771 -0.97849234 -0.92005607  1.03755923 -0.27725701 -0.33569329\n",
      "  0.30710576 -0.36491143 -1.15380117  1.27130434  1.88488525  1.21286806\n",
      " -0.5694384  -0.65709282 -1.24145559  2.5276843  -0.54022026  1.03755923\n",
      " -0.5694384   0.07336065 -0.07273004  1.73879456 -1.12458304 -0.33569329\n",
      " -0.5694384   1.91410339  0.16101507 -1.15380117  0.07336065 -0.1896026\n",
      "  2.38159361  1.21286806  0.83303226 -0.89083793 -0.65709282  2.61533872\n",
      "  0.16101507 -0.16038446 -1.06614676  0.80381412 -1.38754628 -0.51100212\n",
      " -0.89083793 -0.16038446 -0.42334771 -0.92005607  0.24866948  1.47583131\n",
      " -0.1896026   1.06677737  2.87830196  0.01492437 -1.44598256 -1.00771048\n",
      " -1.35832815  0.04414251  2.03097594  2.08941222  0.36554204  1.82644897\n",
      " -0.59865654 -0.92005607  1.68035828 -0.13116632  0.36554204  0.8622504\n",
      " -0.07273004 -0.97849234 -0.01429377 -1.38754628 -0.5694384  -0.59865654\n",
      "  1.47583131 -0.92005607 -1.15380117 -0.39412957  0.13179693 -0.33569329\n",
      " -0.68631096 -0.48178398 -0.62787468  0.80381412 -0.30647515 -0.89083793\n",
      " -0.5694384  -1.15380117 -0.62787468]\n"
     ]
    },
    {
     "data": {
      "text/plain": [
       "SGDRegressor(alpha=0.0001, average=False, early_stopping=False, epsilon=0.1,\n",
       "             eta0=0.001, fit_intercept=True, l1_ratio=0.15,\n",
       "             learning_rate='invscaling', loss='squared_loss', max_iter=1000,\n",
       "             n_iter_no_change=5, penalty=None, power_t=0.25, random_state=None,\n",
       "             shuffle=True, tol=1e-05, validation_fraction=0.1, verbose=0,\n",
       "             warm_start=False)"
      ]
     },
     "execution_count": 223,
     "metadata": {},
     "output_type": "execute_result"
    }
   ],
   "source": [
    "# Create an SGDRegressor instance which will have methods to do our linear regression fitting by gradient descent\n",
    "x = np.array(year).reshape(-1,1)\n",
    "y_1 = np.array(smoothing).reshape(-1,1)\n",
    "\n",
    "x = preprocessing.scale(x)\n",
    "y_1 = preprocessing.scale(y_1)\n",
    "\n",
    "X_train_1, X_test_1, Y_train_1, Y_test_1 = train_test_split( x, y_1, test_size=0.2, random_state=40)\n",
    "\n",
    "sgd_reg = SGDRegressor(max_iter=1000, tol=0.00001, penalty=None, eta0=0.001, early_stopping=False)\n",
    "Y_train_1 = np.array(Y_train_1)\n",
    "\n",
    "print (Y_train_1.shape)\n",
    "print ( Y_train_1.ravel())\n",
    "\n",
    "#fitting data\n",
    "sgd_reg.fit(X_train_1, Y_train_1.ravel())"
   ]
  },
  {
   "cell_type": "code",
   "execution_count": 201,
   "metadata": {
    "scrolled": true
   },
   "outputs": [
    {
     "data": {
      "text/plain": [
       "Text(0.5, 1.0, 'Stochastic Gradient Descent')"
      ]
     },
     "execution_count": 201,
     "metadata": {},
     "output_type": "execute_result"
    },
    {
     "data": {
      "image/png": "[encoded data removed]",
      "text/plain": [
       "<Figure size 432x288 with 1 Axes>"
      ]
     },
     "metadata": {
      "needs_background": "light"
     },
     "output_type": "display_data"
    }
   ],
   "source": [
    "#prediction\n",
    "pred_1 = sgd_reg.intercept_ + X_test_1.dot(sgd_reg.coef_)\n",
    "pred_1 = np.array(pred_1).reshape(-1,1)\n",
    "\n",
    "fig, plot_1 = plt.subplots()\n",
    "plot_1.scatter(x, y_1)\n",
    "plot_1.plot(X_test_1, pred_1, 'r-')\n",
    "plt.xlabel('Year')\n",
    "plt.ylabel('Smoothing')\n",
    "plt.title('Stochastic Gradient Descent')"
   ]
  },
  {
   "cell_type": "code",
   "execution_count": 202,
   "metadata": {},
   "outputs": [
    {
     "name": "stdout",
     "output_type": "stream",
     "text": [
      "0.5234427441144271\n",
      "0.5680590965565985\n"
     ]
    }
   ],
   "source": [
    "#errors\n",
    "rmse_2 =np.sqrt(mean_squared_error(Y_test_1, pred_1))\n",
    "r2_2 = r2_score(Y_test_1, pred_1)\n",
    "\n",
    "print(rmse_2)\n",
    "print(r2_2)"
   ]
  },
  {
   "cell_type": "markdown",
   "metadata": {},
   "source": [
    "## Gradient Descent without Standardization\n",
    "I implemented GD using the code shown in class.\n",
    "\n",
    "The learning rate and the number of epochs needed to be adjusted signicantly in order to get a fitting of the training data.\n",
    "However, the results were not so good, as the gradient is stuck in plateau."
   ]
  },
  {
   "cell_type": "code",
   "execution_count": 248,
   "metadata": {},
   "outputs": [
    {
     "name": "stdout",
     "output_type": "stream",
     "text": [
      "[2.25299758e-05] [-1.36816819e-09]\n"
     ]
    }
   ],
   "source": [
    "#manual implementation of the Gradient Descent without standardization\n",
    "#reduced the learning rate significantly\n",
    "x = np.array(year).reshape(-1,1)\n",
    "y_1 = np.array(smoothing).reshape(-1,1)\n",
    "y_2 = np.array(lowess).reshape(-1,1)\n",
    "\n",
    "X_train_1, X_test_1, Y_train_1, Y_test_1 = train_test_split( x, y_1, test_size=0.2, random_state=40)\n",
    "\n",
    "# Building the model\n",
    "m = 0\n",
    "c = 0\n",
    "\n",
    "##Learning rate reduced by 7 orders of magnitude\n",
    "L = 0.0000000001  # The learning Rate\n",
    "##Number of epochs increased by 1 order of magnitude\n",
    "epochs = 10000  # The number of iterations to perform gradient descent\n",
    "\n",
    "X = X_train_1\n",
    "Y = Y_train_1\n",
    "n = float(len(X)) # Number of elements in X\n",
    "\n",
    "# Performing Gradient Descent \n",
    "for i in range(epochs): \n",
    "        Y_pred = m*X + c  # The current predicted value of Y\n",
    "        D_m = (-2/n) * sum(X * (Y - Y_pred))  # Derivative wrt m\n",
    "        D_c = (-2/n) * sum(Y - Y_pred)  # Derivative wrt c\n",
    "        m = m - L * D_m  # Update m\n",
    "        c = c - L * D_c  # Update c\n",
    "    \n",
    "print (m, c)"
   ]
  },
  {
   "cell_type": "code",
   "execution_count": 252,
   "metadata": {},
   "outputs": [
    {
     "data": {
      "image/png": "[encoded data removed]",
      "text/plain": [
       "<Figure size 432x288 with 1 Axes>"
      ]
     },
     "metadata": {
      "needs_background": "light"
     },
     "output_type": "display_data"
    }
   ],
   "source": [
    "# Making predictions\n",
    "Y_pred = m*X + c\n",
    "\n",
    "plt.scatter(year, smoothing)\n",
    "plt.plot([min(X), max(X)], [min(Y_pred), max(Y_pred)], color='red') # predicted\n",
    "plt.xlabel('Year')\n",
    "plt.ylabel('Smoothing')\n",
    "plt.title('Gradient Descent w/o Standardization')\n",
    "plt.show()"
   ]
  },
  {
   "cell_type": "code",
   "execution_count": 228,
   "metadata": {},
   "outputs": [
    {
     "name": "stdout",
     "output_type": "stream",
     "text": [
      "0.3569063255617716\n",
      "0.004118765421738391\n"
     ]
    }
   ],
   "source": [
    "#errors\n",
    "rmse_3 =np.sqrt(mean_squared_error(Y_train_1, Y_pred))\n",
    "r2_3 = r2_score(Y_train_1, Y_pred)\n",
    "\n",
    "print(rmse_3)\n",
    "print(r2_3)"
   ]
  },
  {
   "cell_type": "markdown",
   "metadata": {},
   "source": [
    "## Optimization 1\n",
    "I tried to modify the values of m and c in order to obtain better results."
   ]
  },
  {
   "cell_type": "code",
   "execution_count": 254,
   "metadata": {},
   "outputs": [
    {
     "name": "stdout",
     "output_type": "stream",
     "text": [
      "[0.004098] [-7.99997226]\n"
     ]
    }
   ],
   "source": [
    "#Optimization 1\n",
    "# Building the model\n",
    "\n",
    "m = -0.05\n",
    "#the more negative the c, the closer to (0, 0)\n",
    "c = -8\n",
    "\n",
    "L = 0.0000000001  # The learning Rate\n",
    "epochs = 10000  # The number of iterations to perform gradient descent\n",
    "\n",
    "\n",
    "X = X_train_1\n",
    "Y = Y_train_1\n",
    "n = float(len(X)) # Number of elements in X\n",
    "\n",
    "# Performing Gradient Descent \n",
    "for i in range(epochs): \n",
    "        Y_pred = m*X + c  # The current predicted value of Y\n",
    "        #print (Y_pred)\n",
    "        D_m = (-2/n) * sum(X * (Y - Y_pred))  # Derivative wrt m\n",
    "        D_c = (-2/n) * sum(Y - Y_pred)  # Derivative wrt c\n",
    "        m = m - L * D_m  # Update m\n",
    "        c = c - L * D_c  # Update c\n",
    "    \n",
    "print (m, c)"
   ]
  },
  {
   "cell_type": "code",
   "execution_count": 255,
   "metadata": {},
   "outputs": [
    {
     "data": {
      "image/png": "[encoded data removed]",
      "text/plain": [
       "<Figure size 432x288 with 1 Axes>"
      ]
     },
     "metadata": {
      "needs_background": "light"
     },
     "output_type": "display_data"
    }
   ],
   "source": [
    "# Making predictions\n",
    "Y_pred = m*X + c\n",
    "\n",
    "plt.scatter(year, smoothing)\n",
    "plt.plot([min(X), max(X)], [min(Y_pred), max(Y_pred)], color='red') # predicted\n",
    "plt.xlabel('Year')\n",
    "plt.ylabel('Smoothing')\n",
    "plt.title('Gradient Descent: Optimization 1')\n",
    "plt.show()"
   ]
  },
  {
   "cell_type": "code",
   "execution_count": 256,
   "metadata": {},
   "outputs": [
    {
     "name": "stdout",
     "output_type": "stream",
     "text": [
      "0.23200071968440636\n",
      "0.579198070109733\n"
     ]
    }
   ],
   "source": [
    "#errors\n",
    "rmse_4 =np.sqrt(mean_squared_error(Y_train_1, Y_pred))\n",
    "r2_4 = r2_score(Y_train_1, Y_pred)\n",
    "\n",
    "print(rmse_4)\n",
    "print(r2_4)"
   ]
  },
  {
   "cell_type": "markdown",
   "metadata": {},
   "source": [
    "## Optimization 2\n",
    "Introduced two new parameters that will affect the learning late L by dividing it to the square of the sum of the learning rate L multiplied by the gradient."
   ]
  },
  {
   "cell_type": "code",
   "execution_count": 257,
   "metadata": {},
   "outputs": [
    {
     "name": "stdout",
     "output_type": "stream",
     "text": [
      "[0.00413302] [-8.01570504]\n"
     ]
    }
   ],
   "source": [
    "#Optimization 2\n",
    "s_c = 0\n",
    "s_m = 0\n",
    "\n",
    "L = 0.0000000001  # The learning Rate\n",
    "epochs = 10000  # The number of iterations to perform gradient descent\n",
    "\n",
    "\n",
    "X = X_train_1\n",
    "Y = Y_train_1\n",
    "n = float(len(X)) # Number of elements in X\n",
    "\n",
    "\n",
    "for i in range(epochs): \n",
    "        Y_pred_2 = m*X + c  # The current predicted value of Y\n",
    "        D_m = (-2/n) * sum(X * (Y - Y_pred_2))  # Derivative wrt m\n",
    "        D_c = (-2/n) * sum(Y - Y_pred_2)  # Derivative wrt c\n",
    "        s_c = s_c + (L * D_c)*(L * D_c)\n",
    "        s_m = s_m + (L * D_m)*(L * D_m)\n",
    "        m = m - (L/math.sqrt(s_m)) * D_m  # Update m\n",
    "        c = c - (L/math.sqrt(s_c)) * D_c  # Update c\n",
    "    \n",
    "print (m, c)"
   ]
  },
  {
   "cell_type": "code",
   "execution_count": 258,
   "metadata": {},
   "outputs": [
    {
     "data": {
      "image/png": "[encoded data removed]",
      "text/plain": [
       "<Figure size 432x288 with 1 Axes>"
      ]
     },
     "metadata": {
      "needs_background": "light"
     },
     "output_type": "display_data"
    }
   ],
   "source": [
    "# Making predictions\n",
    "Y_pred_2 = m*X + c\n",
    "\n",
    "plt.scatter(year, smoothing)\n",
    "plt.plot([min(X), max(X)], [min(Y_pred_2), max(Y_pred_2)], color='red') # predicted\n",
    "plt.xlabel('Year')\n",
    "plt.ylabel('Smoothing')\n",
    "plt.title('Gradient Descent: Optimization 2')\n",
    "plt.show()"
   ]
  },
  {
   "cell_type": "code",
   "execution_count": 259,
   "metadata": {},
   "outputs": [
    {
     "name": "stdout",
     "output_type": "stream",
     "text": [
      "0.2257598936527592\n",
      "0.6015327410060459\n"
     ]
    }
   ],
   "source": [
    "#errors\n",
    "rmse_5 =np.sqrt(mean_squared_error(Y_train_1, Y_pred_2))\n",
    "r2_5 = r2_score(Y_train_1, Y_pred_2)\n",
    "\n",
    "print(rmse_5)\n",
    "print(r2_5)"
   ]
  },
  {
   "cell_type": "markdown",
   "metadata": {},
   "source": [
    "## Optimization 3\n",
    "Improved Optimization 2 by modifying the s_c and s_m parameters by a factor of 2."
   ]
  },
  {
   "cell_type": "code",
   "execution_count": 260,
   "metadata": {},
   "outputs": [
    {
     "name": "stdout",
     "output_type": "stream",
     "text": [
      "[0.00486436] [-9.44187356]\n"
     ]
    }
   ],
   "source": [
    "#trial 3\n",
    "# Building the model\n",
    "L = 0.0000000001  # The learning Rate\n",
    "epochs = 10000  # The number of iterations to perform gradient descent\n",
    "\n",
    "X = X_train_1\n",
    "Y = Y_train_1\n",
    "n = float(len(X)) # Number of elements in X\n",
    "\n",
    "s_c = 0\n",
    "s_m = 0\n",
    "\n",
    "for i in range(epochs): \n",
    "        Y_pred_3 = m*X + c  # The current predicted value of Y\n",
    "        D_m = (-2/n) * sum(X * (Y - Y_pred_3))  # Derivative wrt m\n",
    "        D_c = (-2/n) * sum(Y - Y_pred_3)  # Derivative wrt c\n",
    "        s_c = s_c + 2*(L * D_c)*(L * D_c)\n",
    "        s_m = s_m + 2*(L * D_m)*(L * D_m)\n",
    "        m = m - (L/math.sqrt(s_m)) * D_m  # Update m\n",
    "        c = c - (L/math.sqrt(s_c)) * D_c  # Update c\n",
    "\n",
    "print (m, c)"
   ]
  },
  {
   "cell_type": "code",
   "execution_count": 261,
   "metadata": {},
   "outputs": [
    {
     "data": {
      "image/png": "[encoded data removed]",
      "text/plain": [
       "<Figure size 432x288 with 1 Axes>"
      ]
     },
     "metadata": {
      "needs_background": "light"
     },
     "output_type": "display_data"
    }
   ],
   "source": [
    "# Making predictions\n",
    "Y_pred_3 = m*X + c\n",
    "\n",
    "plt.scatter(year, smoothing)\n",
    "plt.plot([min(X), max(X)], [min(Y_pred_3), max(Y_pred_3)], color='red') # predicted\n",
    "plt.xlabel('Year')\n",
    "plt.ylabel('Smoothing')\n",
    "plt.title('Gradient Descent: Optimization 3')\n",
    "plt.show()"
   ]
  },
  {
   "cell_type": "code",
   "execution_count": 262,
   "metadata": {},
   "outputs": [
    {
     "name": "stdout",
     "output_type": "stream",
     "text": [
      "0.20751888260253915\n",
      "0.6633223406379986\n"
     ]
    }
   ],
   "source": [
    "#rmse = Y_pred_value, Y_true_value\n",
    "rmse_6 =np.sqrt(mean_squared_error(Y_train_1, Y_pred_3))\n",
    "r2_6 = r2_score(Y_train_1, Y_pred_3)\n",
    "\n",
    "print(rmse_6)\n",
    "print(r2_6)\n",
    "\n",
    "#Linear Regression\n",
    "#Root Mean Squared Error: 0.184745660492695\n",
    "#R^2: 0.540654412638955\n"
   ]
  }
 ],
 "metadata": {
  "kernelspec": {
   "display_name": "Python 3",
   "language": "python",
   "name": "python3"
  },
  "language_info": {
   "codemirror_mode": {
    "name": "ipython",
    "version": 3
   },
   "file_extension": ".py",
   "mimetype": "text/x-python",
   "name": "python",
   "nbconvert_exporter": "python",
   "pygments_lexer": "ipython3",
   "version": "3.7.3"
  }
 },
 "nbformat": 4,
 "nbformat_minor": 2
}
